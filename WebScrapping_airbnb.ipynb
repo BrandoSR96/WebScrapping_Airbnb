{
  "cells": [
    {
      "cell_type": "code",
      "execution_count": 2,
      "metadata": {
        "colab": {
          "base_uri": "https://localhost:8080/"
        },
        "id": "2xv5Vm9kstCd",
        "outputId": "4d783b9d-1d60-4de8-ea4b-8be7900c38ec"
      },
      "outputs": [],
      "source": [
        "def buscar_link_archivo(page, city_name, file_name):\n",
        "    soup = BeautifulSoup(page.content, \"html.parser\")\n",
        "    for row in soup.find_all('tr'):\n",
        "        columns = row.find_all('td')\n",
        "        if columns and columns[0].get_text(strip=True).lower() == city_name.lower():\n",
        "            link_tag = columns[1].find('a', string=file_name)\n",
        "            if link_tag:\n",
        "                return link_tag.get('href')"
      ]
    },
    {
      "cell_type": "code",
      "execution_count": 3,
      "metadata": {},
      "outputs": [
        {
          "name": "stdout",
          "output_type": "stream",
          "text": [
            "El enlace encontrado de la ciudad Beijing es: \n",
            "https://data.insideairbnb.com/china/beijing/beijing/2023-12-26/visualisations/listings.csv\n"
          ]
        }
      ],
      "source": [
        "import requests\n",
        "from bs4 import BeautifulSoup\n",
        "\n",
        "page = requests.get(\"http://insideairbnb.com/get-the-data\")\n",
        "city_name = \"Beijing\"\n",
        "file_name = \"listings.csv\"\n",
        "link_archivo = buscar_link_archivo(page, city_name, file_name)\n",
        "\n",
        "print(f\"El enlace encontrado de la ciudad {city_name} es: \\n{link_archivo}\")"
      ]
    },
    {
      "cell_type": "code",
      "execution_count": 14,
      "metadata": {
        "id": "0Wc89hbR0_qH"
      },
      "outputs": [
        {
          "name": "stdout",
          "output_type": "stream",
          "text": [
            "Ha guardado con éxito\n"
          ]
        }
      ],
      "source": [
        "respuesta = requests.get(link_archivo)\n",
        "\n",
        "if respuesta.status_code == 200:\n",
        "    with open(f'listings_{city_name}.csv','wb') as file:\n",
        "        file.write(respuesta.content)\n",
        "    print(\"Ha guardado con éxito\")\n",
        "else:\n",
        "    print(\"Ha fallado el link\")\n"
      ]
    },
    {
      "cell_type": "code",
      "execution_count": null,
      "metadata": {},
      "outputs": [],
      "source": []
    }
  ],
  "metadata": {
    "colab": {
      "provenance": []
    },
    "kernelspec": {
      "display_name": "Python 3",
      "name": "python3"
    },
    "language_info": {
      "codemirror_mode": {
        "name": "ipython",
        "version": 3
      },
      "file_extension": ".py",
      "mimetype": "text/x-python",
      "name": "python",
      "nbconvert_exporter": "python",
      "pygments_lexer": "ipython3",
      "version": "3.12.0"
    }
  },
  "nbformat": 4,
  "nbformat_minor": 0
}
